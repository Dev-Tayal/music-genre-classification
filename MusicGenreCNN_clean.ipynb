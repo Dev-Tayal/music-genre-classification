{
  "nbformat": 4,
  "nbformat_minor": 0,
  "metadata": {
    "colab": {
      "provenance": []
    },
    "kernelspec": {
      "name": "python3",
      "display_name": "Python 3"
    },
    "language_info": {
      "name": "python"
    }
  },
  "cells": [
    {
      "cell_type": "code",
      "execution_count": null,
      "metadata": {
        "id": "IOQAy7iPnOdj",
        "collapsed": true
      },
      "outputs": [],
      "source": [
        "%pip install librosa tensorflow scikit-learn matplotlib"
      ]
    },
    {
      "cell_type": "code",
      "source": [
        "from google.colab import files\n",
        "files.upload()"
      ],
      "metadata": {
        "id": "HMgFf8nYr75E",
        "collapsed": true
      },
      "execution_count": null,
      "outputs": []
    },
    {
      "cell_type": "code",
      "source": [
        "!mkdir -p ~/.kaggle\n",
        "!cp kaggle.json ~/.kaggle/\n",
        "!chmod 600 ~/.kaggle/kaggle.json"
      ],
      "metadata": {
        "id": "z0oAQiMoulGz"
      },
      "execution_count": null,
      "outputs": []
    },
    {
      "cell_type": "code",
      "source": [
        "!kaggle datasets download -d andradaolteanu/gtzan-dataset-music-genre-classification"
      ],
      "metadata": {
        "collapsed": true,
        "id": "lG2DVrKEsSkJ"
      },
      "execution_count": null,
      "outputs": []
    },
    {
      "cell_type": "code",
      "source": [
        "!unzip gtzan-dataset-music-genre-classification.zip"
      ],
      "metadata": {
        "collapsed": true,
        "id": "lP3lypsOu0jT"
      },
      "execution_count": null,
      "outputs": []
    },
    {
      "cell_type": "code",
      "source": [
        "import os\n",
        "\n",
        "data_path = \"/content/Data/genres_original\"\n",
        "genres = os.listdir(data_path)\n",
        "print(\"Genres:\", genres)\n",
        "\n",
        "# List some files from one genre\n",
        "print(\"\\nSample files from 'jazz':\")\n",
        "print(os.listdir(os.path.join(data_path, 'jazz'))[:5])"
      ],
      "metadata": {
        "id": "Pm6CwWvAu6b9"
      },
      "execution_count": null,
      "outputs": []
    },
    {
      "cell_type": "code",
      "source": [
        "#Preprocess the audio into MFCCs and save as data.json\n",
        "import math\n",
        "import json\n",
        "import librosa\n",
        "import numpy as np\n",
        "\n",
        "DATASET_PATH = \"/content/Data/genres_original\"\n",
        "JSON_PATH = \"data.json\"\n",
        "SAMPLES_PER_TRACK = 22050 * 30\n",
        "\n",
        "def save_mfcc(dataset_path, json_path, num_mfcc=13, n_fft=2048, hop_length=512, num_segments=10):\n",
        "    data = {\n",
        "        \"mapping\": [],\n",
        "        \"mfcc\": [],\n",
        "        \"labels\": []\n",
        "    }\n",
        "\n",
        "    num_samples_per_segment = int(SAMPLES_PER_TRACK / num_segments)\n",
        "    expected_num_mfcc_vectors = math.ceil(num_samples_per_segment / hop_length)\n",
        "\n",
        "    for i, (dirpath, dirnames, filenames) in enumerate(os.walk(dataset_path)):\n",
        "        if dirpath != dataset_path:\n",
        "            genre_label = dirpath.split(\"/\")[-1]\n",
        "            data[\"mapping\"].append(genre_label)\n",
        "            print(f\"\\nProcessing: {genre_label}\")\n",
        "\n",
        "            for f in filenames:\n",
        "                file_path = os.path.join(dirpath, f)\n",
        "                try:\n",
        "                    signal, sr = librosa.load(file_path, sr=22050)\n",
        "                except Exception as e:\n",
        "                    print(f\"Could not process file {file_path}: {e}\")\n",
        "                    continue\n",
        "\n",
        "\n",
        "                for d in range(num_segments):\n",
        "                    start = num_samples_per_segment * d\n",
        "                    finish = start + num_samples_per_segment\n",
        "\n",
        "                    mfcc = librosa.feature.mfcc(y=signal[start:finish], sr=sr,\n",
        "                                                n_mfcc=num_mfcc, n_fft=n_fft, hop_length=hop_length)\n",
        "                    mfcc = mfcc.T\n",
        "\n",
        "                    if len(mfcc) == expected_num_mfcc_vectors:\n",
        "                        data[\"mfcc\"].append(mfcc.tolist())\n",
        "                        data[\"labels\"].append(i - 1)\n",
        "\n",
        "    with open(json_path, \"w\") as fp:\n",
        "        json.dump(data, fp, indent=4)\n",
        "\n",
        "    print(\"\\n✅ Saved MFCCs to\", json_path)\n",
        "\n",
        "# Run preprocessing\n",
        "save_mfcc(DATASET_PATH, JSON_PATH)\n"
      ],
      "metadata": {
        "id": "QOd9zl-4xuKi"
      },
      "execution_count": null,
      "outputs": []
    },
    {
      "cell_type": "code",
      "source": [
        "import json\n",
        "import numpy as np\n",
        "\n",
        "DATA_PATH = \"data.json\"\n",
        "\n",
        "def load_data(data_path):\n",
        "    with open(data_path, \"r\") as fp:\n",
        "        data = json.load(fp)\n",
        "\n",
        "    X = np.array(data[\"mfcc\"])\n",
        "    y = np.array(data[\"labels\"])\n",
        "    return X, y\n",
        "\n",
        "X, y = load_data(DATA_PATH)\n",
        "print(f\"Data loaded. Shape of X: {X.shape}, Shape of y: {y.shape}\")"
      ],
      "metadata": {
        "id": "G4tjHeH_yv7p"
      },
      "execution_count": null,
      "outputs": []
    },
    {
      "cell_type": "code",
      "source": [
        "from sklearn.model_selection import train_test_split\n",
        "from tensorflow.keras.utils import to_categorical\n",
        "\n",
        "# reshape for CNN input: (samples, height, width, channels)\n",
        "X = X[..., np.newaxis]\n",
        "\n",
        "# one-hot encode labels\n",
        "y = to_categorical(y)\n",
        "\n",
        "# split into train, validation, and test sets\n",
        "X_train, X_temp, y_train, y_temp = train_test_split(X, y, test_size=0.3, random_state=42)\n",
        "X_val, X_test, y_val, y_test = train_test_split(X_temp, y_temp, test_size=0.5, random_state=42)\n",
        "\n",
        "print(f\"Train shape: {X_train.shape}, Validation shape: {X_val.shape}, Test shape: {X_test.shape}\")\n"
      ],
      "metadata": {
        "id": "_PYxLJGW2Nxb"
      },
      "execution_count": null,
      "outputs": []
    },
    {
      "cell_type": "code",
      "source": [
        "import tensorflow as tf\n",
        "from tensorflow.keras import layers, models\n",
        "\n",
        "model = models.Sequential()\n",
        "\n",
        "model.add(layers.Conv2D(32, (3, 3), activation='relu', input_shape=X.shape[1:]))\n",
        "model.add(layers.MaxPooling2D((3, 3), strides=(2, 2), padding='same'))\n",
        "model.add(layers.BatchNormalization())\n",
        "\n",
        "model.add(layers.Conv2D(32, (3, 3), activation='relu'))\n",
        "model.add(layers.MaxPooling2D((3, 3), strides=(2, 2), padding='same'))\n",
        "model.add(layers.BatchNormalization())\n",
        "\n",
        "model.add(layers.Flatten())\n",
        "model.add(layers.Dense(64, activation='relu'))\n",
        "model.add(layers.Dropout(0.3))\n",
        "model.add(layers.Dense(10, activation='softmax'))  # 10 genres\n",
        "\n",
        "model.summary()\n"
      ],
      "metadata": {
        "id": "Eb0G7kMO2UQq"
      },
      "execution_count": null,
      "outputs": []
    },
    {
      "cell_type": "code",
      "source": [
        "model.compile(optimizer='adam',\n",
        "              loss='categorical_crossentropy',\n",
        "              metrics=['accuracy'])\n",
        "\n",
        "history = model.fit(X_train, y_train,\n",
        "                    validation_data=(X_val, y_val),\n",
        "                    epochs=30,\n",
        "                    batch_size=32)\n"
      ],
      "metadata": {
        "collapsed": true,
        "id": "tG-VBHR-2eBm"
      },
      "execution_count": null,
      "outputs": []
    },
    {
      "cell_type": "code",
      "source": [
        "test_loss, test_acc = model.evaluate(X_test, y_test, verbose=2)\n",
        "print(f\"\\nTest accuracy: {test_acc:.4f}\")\n"
      ],
      "metadata": {
        "id": "U2CfLdZV2sJE"
      },
      "execution_count": null,
      "outputs": []
    },
    {
      "cell_type": "code",
      "source": [
        "import matplotlib.pyplot as plt\n",
        "\n",
        "# Accuracy\n",
        "plt.plot(history.history['accuracy'], label='Training Accuracy')\n",
        "plt.plot(history.history['val_accuracy'], label='Validation Accuracy')\n",
        "plt.title('Accuracy')\n",
        "plt.xlabel('Epoch')\n",
        "plt.ylabel('Accuracy')\n",
        "plt.legend()\n",
        "plt.grid(True)\n",
        "plt.show()\n",
        "\n",
        "# Loss\n",
        "plt.plot(history.history['loss'], label='Training Loss')\n",
        "plt.plot(history.history['val_loss'], label='Validation Loss')\n",
        "plt.title('Loss')\n",
        "plt.xlabel('Epoch')\n",
        "plt.ylabel('Loss')\n",
        "plt.legend()\n",
        "plt.grid(True)\n",
        "plt.show()\n"
      ],
      "metadata": {
        "id": "DHk74d-R45N9"
      },
      "execution_count": null,
      "outputs": []
    }
  ]
}